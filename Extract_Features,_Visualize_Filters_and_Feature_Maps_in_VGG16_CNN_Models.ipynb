{
  "nbformat": 4,
  "nbformat_minor": 0,
  "metadata": {
    "colab": {
      "name": "Extract Features, Visualize Filters and Feature Maps in VGG16 CNN Models.ipynb",
      "provenance": [],
      "collapsed_sections": []
    },
    "kernelspec": {
      "name": "python3",
      "display_name": "Python 3"
    },
    "language_info": {
      "name": "python"
    }
  },
  "cells": [
    {
      "cell_type": "code",
      "source": [
        "from google.colab import drive"
      ],
      "metadata": {
        "id": "g8UcHvZN2U9x"
      },
      "execution_count": null,
      "outputs": []
    },
    {
      "cell_type": "code",
      "source": [
        "drive.mount('/content/drive')"
      ],
      "metadata": {
        "colab": {
          "base_uri": "https://localhost:8080/"
        },
        "id": "luJDX7wgdJ7n",
        "outputId": "33c945e5-a437-4b92-dfe1-ec2a401d8282"
      },
      "execution_count": null,
      "outputs": [
        {
          "output_type": "stream",
          "name": "stdout",
          "text": [
            "Mounted at /content/drive\n"
          ]
        }
      ]
    },
    {
      "cell_type": "markdown",
      "source": [
        "#Extract Features with VGG16"
      ],
      "metadata": {
        "id": "zlI7D5RiWYDF"
      }
    },
    {
      "cell_type": "code",
      "source": [
        "from tensorflow.keras.applications.vgg16 import VGG16\n",
        "from tensorflow.keras.preprocessing import image\n",
        "from tensorflow.keras.applications.vgg16 import preprocess_input\n",
        "import numpy as np"
      ],
      "metadata": {
        "id": "97clSy9pNign"
      },
      "execution_count": null,
      "outputs": []
    },
    {
      "cell_type": "code",
      "source": [
        "model=VGG16(weights='imagenet',include_top=False)\n",
        "img_path='/content/image1.jpg'"
      ],
      "metadata": {
        "id": "a7jZZSeHCh2Y"
      },
      "execution_count": null,
      "outputs": []
    },
    {
      "cell_type": "code",
      "source": [
        "img= image.load_img(img_path, target_size=(224,224))\n",
        "x=image.img_to_array(img)\n",
        "x=np.expand_dims(x, axis=0)\n",
        "x=preprocess_input(x)\n",
        "features=model.predict(x)\n",
        "print(features.shape)\n",
        "print(features)"
      ],
      "metadata": {
        "colab": {
          "base_uri": "https://localhost:8080/"
        },
        "id": "8fvpzhmiER9G",
        "outputId": "030a94a4-5d93-4bee-b2bc-ed1e8ec78230"
      },
      "execution_count": null,
      "outputs": [
        {
          "output_type": "stream",
          "name": "stdout",
          "text": [
            "(1, 7, 7, 512)\n",
            "[[[[ 0.          0.          0.         ...  0.          3.4925442\n",
            "     0.        ]\n",
            "   [ 0.          0.          0.         ...  0.          0.\n",
            "     0.        ]\n",
            "   [ 0.          0.          0.         ...  0.          0.\n",
            "     0.        ]\n",
            "   ...\n",
            "   [ 0.          0.          0.         ...  0.          2.0427692\n",
            "     0.        ]\n",
            "   [ 0.          0.          0.         ...  0.          0.83579034\n",
            "     0.        ]\n",
            "   [ 0.          0.          0.         ...  0.          0.\n",
            "     0.        ]]\n",
            "\n",
            "  [[ 0.          0.          0.         ...  0.          0.\n",
            "     7.224947  ]\n",
            "   [ 0.          0.          0.         ...  0.          0.\n",
            "    26.13831   ]\n",
            "   [ 0.          0.          0.         ...  0.          0.\n",
            "     0.        ]\n",
            "   ...\n",
            "   [ 0.          0.          0.         ...  0.          0.\n",
            "     0.        ]\n",
            "   [ 0.          0.          0.         ...  0.          0.\n",
            "     0.        ]\n",
            "   [ 0.          0.          0.         ...  0.          0.\n",
            "     0.        ]]\n",
            "\n",
            "  [[ 0.          0.          0.         ...  0.          0.\n",
            "     0.        ]\n",
            "   [ 0.          0.          0.         ...  0.          0.\n",
            "     0.        ]\n",
            "   [ 0.          0.          0.         ...  0.          0.\n",
            "     0.        ]\n",
            "   ...\n",
            "   [ 0.          0.          0.         ...  0.          0.\n",
            "    10.406737  ]\n",
            "   [ 0.          0.          0.         ...  0.          4.753033\n",
            "     0.        ]\n",
            "   [ 0.          0.          0.         ...  0.          9.421114\n",
            "     0.        ]]\n",
            "\n",
            "  ...\n",
            "\n",
            "  [[ 0.          0.          0.         ...  0.          0.\n",
            "    31.358818  ]\n",
            "   [ 0.          0.          0.         ...  0.          0.\n",
            "    18.246307  ]\n",
            "   [ 0.          0.          0.         ...  0.          0.\n",
            "     2.1891673 ]\n",
            "   ...\n",
            "   [ 0.          0.          0.         ...  0.          0.\n",
            "     0.        ]\n",
            "   [ 0.          0.          0.         ...  0.          0.\n",
            "     0.        ]\n",
            "   [ 0.          0.          0.         ...  0.          4.18222\n",
            "     0.        ]]\n",
            "\n",
            "  [[ 0.          0.          0.         ...  0.          0.\n",
            "    13.588388  ]\n",
            "   [ 0.          0.          0.         ...  0.          0.\n",
            "    16.870346  ]\n",
            "   [ 0.          0.          0.         ...  0.          0.\n",
            "    16.095812  ]\n",
            "   ...\n",
            "   [ 0.40877533  0.          0.         ...  0.          0.\n",
            "     0.        ]\n",
            "   [ 4.3093414   0.          0.         ...  0.          0.\n",
            "     0.        ]\n",
            "   [ 0.          0.          0.         ...  0.         34.246315\n",
            "     0.        ]]\n",
            "\n",
            "  [[ 0.          0.          0.         ...  0.          0.\n",
            "     0.        ]\n",
            "   [ 3.3849094   0.          0.         ...  0.          0.\n",
            "     0.        ]\n",
            "   [ 1.595545    0.          0.         ...  0.          0.\n",
            "     0.        ]\n",
            "   ...\n",
            "   [ 0.          0.          0.         ...  0.          3.479647\n",
            "     0.        ]\n",
            "   [ 0.          0.          0.         ...  0.          6.205278\n",
            "     0.        ]\n",
            "   [ 0.          0.          0.         ...  0.          0.\n",
            "     0.        ]]]]\n"
          ]
        }
      ]
    },
    {
      "cell_type": "markdown",
      "source": [
        "#Extract Features from an Arbitrary Intermediate Layer with VGG16"
      ],
      "metadata": {
        "id": "MpqF45kcWhtk"
      }
    },
    {
      "cell_type": "code",
      "source": [
        "from tensorflow.keras.applications.vgg16 import VGG16\n",
        "from tensorflow.keras.preprocessing import image\n",
        "from tensorflow.keras.applications.vgg16 import preprocess_input\n",
        "from tensorflow.keras.models import Model\n",
        "import numpy as np"
      ],
      "metadata": {
        "id": "03HGjl_MFZOe"
      },
      "execution_count": null,
      "outputs": []
    },
    {
      "cell_type": "code",
      "source": [
        "base_model=VGG16(weights='imagenet',include_top=False)\n",
        "model=Model(inputs=base_model.input,outputs=base_model.get_layer('block4_pool').output)\n",
        "img_path='/content/image2.jpg'\n",
        "img= image.load_img(img_path, target_size=(224,224))\n",
        "x=image.img_to_array(img)\n",
        "x=np.expand_dims(x, axis=0)\n",
        "x=preprocess_input(x)\n",
        "block4_pool_features=model.predict(x)\n",
        "print(block4_pool_features.shape)\n",
        "print(block4_pool_features)"
      ],
      "metadata": {
        "colab": {
          "base_uri": "https://localhost:8080/"
        },
        "id": "CUhiC1-GJAFD",
        "outputId": "4f5f33d8-8286-4553-c144-e29f44cf2e96"
      },
      "execution_count": null,
      "outputs": [
        {
          "output_type": "stream",
          "name": "stdout",
          "text": [
            "(1, 14, 14, 512)\n",
            "[[[[  0.          0.          0.        ...   0.          0.\n",
            "    432.62195  ]\n",
            "   [109.560425    0.          0.        ...  75.92465     0.\n",
            "    111.964    ]\n",
            "   [ 76.43828     0.        173.96556   ...   0.          0.\n",
            "      0.       ]\n",
            "   ...\n",
            "   [  0.          0.          0.        ... 189.84587     0.\n",
            "      2.8362572]\n",
            "   [  0.          0.          0.        ... 516.1046      0.\n",
            "      0.       ]\n",
            "   [  0.         96.15398     0.        ... 608.32623     0.\n",
            "     83.84566  ]]\n",
            "\n",
            "  [[  0.          0.          0.        ...   8.970053    0.\n",
            "    147.2155   ]\n",
            "   [  0.          0.          0.        ...  98.63738     0.\n",
            "     76.727844 ]\n",
            "   [  0.          0.        107.78717   ...   0.          0.\n",
            "      0.       ]\n",
            "   ...\n",
            "   [  0.          0.          0.        ... 238.04433     0.\n",
            "      0.       ]\n",
            "   [  0.          0.          0.        ... 569.4078      0.\n",
            "      0.       ]\n",
            "   [  0.          0.          0.        ... 694.2222      0.\n",
            "      0.       ]]\n",
            "\n",
            "  [[  0.         34.633392    0.        ...   0.          0.\n",
            "     28.082438 ]\n",
            "   [  0.          0.          0.        ...   0.          0.\n",
            "     68.821945 ]\n",
            "   [  0.          0.          0.        ...   0.          0.\n",
            "      0.       ]\n",
            "   ...\n",
            "   [  0.          0.          0.        ... 293.44376     0.\n",
            "      0.       ]\n",
            "   [  0.          0.          0.        ... 306.1354      0.\n",
            "      0.       ]\n",
            "   [  0.          0.          0.        ... 153.04178     0.\n",
            "      0.       ]]\n",
            "\n",
            "  ...\n",
            "\n",
            "  [[  0.          0.          8.913467  ...   0.          0.\n",
            "      0.       ]\n",
            "   [  0.          0.        145.23921   ...   0.          0.\n",
            "      2.2195866]\n",
            "   [ 47.261024    0.        121.60905   ...   0.          0.\n",
            "      0.       ]\n",
            "   ...\n",
            "   [ 50.68185     6.367796    0.        ...   0.          0.\n",
            "    435.71826  ]\n",
            "   [226.81166     0.        211.58879   ...   0.          0.\n",
            "    351.59427  ]\n",
            "   [326.9624      0.        620.39056   ...   0.          0.\n",
            "      0.       ]]\n",
            "\n",
            "  [[  0.          0.          0.        ...   0.          0.\n",
            "      0.       ]\n",
            "   [  0.          0.          0.        ... 231.40059     0.\n",
            "      0.       ]\n",
            "   [  0.          0.          4.9698296 ... 127.35523     0.\n",
            "      0.       ]\n",
            "   ...\n",
            "   [ 71.95786     0.          0.        ...   0.          0.\n",
            "      0.       ]\n",
            "   [532.8098      0.         42.463066  ...   0.          0.\n",
            "    116.89381  ]\n",
            "   [139.35147     0.        555.2238    ...   0.          0.\n",
            "      0.       ]]\n",
            "\n",
            "  [[  0.          0.         96.22489   ...   0.          0.\n",
            "      0.       ]\n",
            "   [  0.         11.468984    0.        ... 427.78638     0.\n",
            "      0.       ]\n",
            "   [  0.          0.          0.        ... 255.18085     0.\n",
            "     74.04163  ]\n",
            "   ...\n",
            "   [494.13156     0.          0.        ...   0.          0.\n",
            "      0.       ]\n",
            "   [631.63257     0.          0.        ...   0.          0.\n",
            "      0.       ]\n",
            "   [513.56866     0.        260.08878   ...   0.          0.\n",
            "      0.       ]]]]\n"
          ]
        }
      ]
    },
    {
      "cell_type": "markdown",
      "source": [
        "#Summarize Filters in Each Convolutional Layer of VGG16 Model"
      ],
      "metadata": {
        "id": "t0cOTM22WrWc"
      }
    },
    {
      "cell_type": "code",
      "source": [
        "from keras.applications.vgg16 import VGG16\n",
        "from matplotlib import pyplot\n",
        "model=VGG16()\n",
        "for layer in model.layers:\n",
        "  if 'conv' not in layer.name:\n",
        "    continue\n",
        "  filters,biases = layer.get_weights()\n",
        "  print(layer.name, filters.shape)"
      ],
      "metadata": {
        "colab": {
          "base_uri": "https://localhost:8080/"
        },
        "id": "X2F-xtBALJXD",
        "outputId": "d59af821-7d21-4e6a-d3b6-f67d32b6f9d7"
      },
      "execution_count": null,
      "outputs": [
        {
          "output_type": "stream",
          "name": "stdout",
          "text": [
            "block1_conv1 (3, 3, 3, 64)\n",
            "block1_conv2 (3, 3, 64, 64)\n",
            "block2_conv1 (3, 3, 64, 128)\n",
            "block2_conv2 (3, 3, 128, 128)\n",
            "block3_conv1 (3, 3, 128, 256)\n",
            "block3_conv2 (3, 3, 256, 256)\n",
            "block3_conv3 (3, 3, 256, 256)\n",
            "block4_conv1 (3, 3, 256, 512)\n",
            "block4_conv2 (3, 3, 512, 512)\n",
            "block4_conv3 (3, 3, 512, 512)\n",
            "block5_conv1 (3, 3, 512, 512)\n",
            "block5_conv2 (3, 3, 512, 512)\n",
            "block5_conv3 (3, 3, 512, 512)\n"
          ]
        }
      ]
    },
    {
      "cell_type": "markdown",
      "source": [
        "#Visualize First 6 Filters Out of 64 Filters in Second Layer of VGG16 Model"
      ],
      "metadata": {
        "id": "WWEasbh4WxRM"
      }
    },
    {
      "cell_type": "code",
      "source": [
        "from keras.applications.vgg16 import VGG16\n",
        "from matplotlib import pyplot\n",
        "model=VGG16()\n",
        "filters,biases =model.layers[1].get_weights()\n",
        "f_min,f_max=filters.min(),filters.max()\n",
        "filters=(filters-f_min)/(f_max-f_min)\n",
        "n_filters, ix = 6,1\n",
        "for i in range(n_filters):\n",
        "  f=filters[:, :, :, i]\n",
        "  for j in range(3):\n",
        "    ax=pyplot.subplot(n_filters,3,ix)\n",
        "    ax.set_xticks([])\n",
        "    ax.set_yticks([])\n",
        "    pyplot.imshow(f[:, :, j], cmap='gray')\n",
        "    ix+=1\n",
        "pyplot.show()"
      ],
      "metadata": {
        "colab": {
          "base_uri": "https://localhost:8080/",
          "height": 252
        },
        "id": "K8Ada1qtL-CB",
        "outputId": "41df92dd-e5b7-4139-e619-939cd855cd99"
      },
      "execution_count": null,
      "outputs": [
        {
          "output_type": "display_data",
          "data": {
            "text/plain": [
              "<Figure size 432x288 with 18 Axes>"
            ],
            "image/png": "[encoded data removed]"
          },
          "metadata": {}
        }
      ]
    },
    {
      "cell_type": "markdown",
      "source": [
        "#Summarize Feature Map Size for Each Conv Layer"
      ],
      "metadata": {
        "id": "G-1YHcatXDY9"
      }
    },
    {
      "cell_type": "code",
      "source": [
        "from keras.applications.vgg16 import VGG16\n",
        "from matplotlib import pyplot\n",
        "model=VGG16()\n",
        "for i in range(len(model.layers)):\n",
        "  layer=model.layers[i]\n",
        "  if 'conv' not in layer.name:\n",
        "    continue\n",
        "  print(i,layer.name, layer.output.shape)"
      ],
      "metadata": {
        "colab": {
          "base_uri": "https://localhost:8080/"
        },
        "id": "Z2DIKu7NP8gt",
        "outputId": "45047727-e3ca-4bc1-c42c-526201eead18"
      },
      "execution_count": null,
      "outputs": [
        {
          "output_type": "stream",
          "name": "stdout",
          "text": [
            "1 block1_conv1 (None, 224, 224, 64)\n",
            "2 block1_conv2 (None, 224, 224, 64)\n",
            "4 block2_conv1 (None, 112, 112, 128)\n",
            "5 block2_conv2 (None, 112, 112, 128)\n",
            "7 block3_conv1 (None, 56, 56, 256)\n",
            "8 block3_conv2 (None, 56, 56, 256)\n",
            "9 block3_conv3 (None, 56, 56, 256)\n",
            "11 block4_conv1 (None, 28, 28, 512)\n",
            "12 block4_conv2 (None, 28, 28, 512)\n",
            "13 block4_conv3 (None, 28, 28, 512)\n",
            "15 block5_conv1 (None, 14, 14, 512)\n",
            "16 block5_conv2 (None, 14, 14, 512)\n",
            "17 block5_conv3 (None, 14, 14, 512)\n"
          ]
        }
      ]
    },
    {
      "cell_type": "markdown",
      "source": [
        "#Visualizing the Feature Map for the First Convolutional Layer in the VGG16 Model for an Input Image"
      ],
      "metadata": {
        "id": "eWRmdw6IXIJ0"
      }
    },
    {
      "cell_type": "code",
      "source": [
        "from keras.applications.vgg16 import VGG16\n",
        "from keras.applications.vgg16 import preprocess_input\n",
        "from keras.preprocessing.image import load_img\n",
        "from keras.preprocessing.image import img_to_array\n",
        "from keras.models import Model\n",
        "from numpy import expand_dims\n",
        "from matplotlib import pyplot"
      ],
      "metadata": {
        "id": "HoC9VbpjREJF"
      },
      "execution_count": null,
      "outputs": []
    },
    {
      "cell_type": "code",
      "source": [
        "mode=VGG16()\n",
        "model=Model(inputs=model.inputs,outputs=model.layers[1].output)\n",
        "model.summary()\n",
        "img=load_img('/content/image2.jpg',target_size=(224,224))\n",
        "img=img_to_array(img)\n",
        "img=expand_dims(img, axis=0)\n",
        "img=preprocess_input(img)\n",
        "square=8\n",
        "ix=1\n",
        "for _ in range(square):\n",
        "  for _ in range(square):\n",
        "    ax=pyplot.subplot(square,square,ix)\n",
        "    ax.set_xticks([])\n",
        "    ax.set_yticks([])\n",
        "    feature_maps=model.predict(img)\n",
        "    pyplot.imshow(feature_maps[0, :, :, ix-1], cmap='gray')\n",
        "    ix+=1\n",
        "pyplot.show()"
      ],
      "metadata": {
        "colab": {
          "base_uri": "https://localhost:8080/",
          "height": 478
        },
        "id": "YOSLXGaKSYd4",
        "outputId": "2b1c69f6-3648-42aa-f635-8df8f50ed4c7"
      },
      "execution_count": null,
      "outputs": [
        {
          "output_type": "stream",
          "name": "stdout",
          "text": [
            "Model: \"model_1\"\n",
            "_________________________________________________________________\n",
            " Layer (type)                Output Shape              Param #   \n",
            "=================================================================\n",
            " input_7 (InputLayer)        [(None, 224, 224, 3)]     0         \n",
            "                                                                 \n",
            " block1_conv1 (Conv2D)       (None, 224, 224, 64)      1792      \n",
            "                                                                 \n",
            "=================================================================\n",
            "Total params: 1,792\n",
            "Trainable params: 1,792\n",
            "Non-trainable params: 0\n",
            "_________________________________________________________________\n"
          ]
        },
        {
          "output_type": "display_data",
          "data": {
            "text/plain": [
              "<Figure size 432x288 with 64 Axes>"
            ],
            "image/png": "[encoded data removed]"
          },
          "metadata": {}
        }
      ]
    }
  ]
}